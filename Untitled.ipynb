{
 "cells": [
  {
   "cell_type": "code",
   "execution_count": null,
   "metadata": {},
   "outputs": [
    {
     "name": "stdout",
     "output_type": "stream",
     "text": [
      " * Serving Flask app \"__main__\" (lazy loading)\n",
      " * Environment: production\n",
      "   WARNING: This is a development server. Do not use it in a production deployment.\n",
      "   Use a production WSGI server instead.\n",
      " * Debug mode: off\n"
     ]
    },
    {
     "name": "stderr",
     "output_type": "stream",
     "text": [
      " * Running on http://127.0.0.1:5000/ (Press CTRL+C to quit)\n",
      "[2021-07-23 23:17:11,096] ERROR in app: Exception on / [GET]\n",
      "Traceback (most recent call last):\n",
      "  File \"D:\\python\\lib\\site-packages\\flask\\app.py\", line 2446, in wsgi_app\n",
      "    response = self.full_dispatch_request()\n",
      "  File \"D:\\python\\lib\\site-packages\\flask\\app.py\", line 1951, in full_dispatch_request\n",
      "    rv = self.handle_user_exception(e)\n",
      "  File \"D:\\python\\lib\\site-packages\\flask\\app.py\", line 1820, in handle_user_exception\n",
      "    reraise(exc_type, exc_value, tb)\n",
      "  File \"D:\\python\\lib\\site-packages\\flask\\_compat.py\", line 39, in reraise\n",
      "    raise value\n",
      "  File \"D:\\python\\lib\\site-packages\\flask\\app.py\", line 1949, in full_dispatch_request\n",
      "    rv = self.dispatch_request()\n",
      "  File \"D:\\python\\lib\\site-packages\\flask\\app.py\", line 1935, in dispatch_request\n",
      "    return self.view_functions[rule.endpoint](**req.view_args)\n",
      "  File \"<ipython-input-1-32a2dd4457e9>\", line 10, in home\n",
      "    return render_template(\"pca.html\")\n",
      "  File \"D:\\python\\lib\\site-packages\\flask\\templating.py\", line 138, in render_template\n",
      "    ctx.app.jinja_env.get_or_select_template(template_name_or_list),\n",
      "  File \"D:\\python\\lib\\site-packages\\jinja2\\environment.py\", line 930, in get_or_select_template\n",
      "    return self.get_template(template_name_or_list, parent, globals)\n",
      "  File \"D:\\python\\lib\\site-packages\\jinja2\\environment.py\", line 883, in get_template\n",
      "    return self._load_template(name, self.make_globals(globals))\n",
      "  File \"D:\\python\\lib\\site-packages\\jinja2\\environment.py\", line 857, in _load_template\n",
      "    template = self.loader.load(self, name, globals)\n",
      "  File \"D:\\python\\lib\\site-packages\\jinja2\\loaders.py\", line 117, in load\n",
      "    source, filename, uptodate = self.get_source(environment, name)\n",
      "  File \"D:\\python\\lib\\site-packages\\flask\\templating.py\", line 60, in get_source\n",
      "    return self._get_source_fast(environment, template)\n",
      "  File \"D:\\python\\lib\\site-packages\\flask\\templating.py\", line 89, in _get_source_fast\n",
      "    raise TemplateNotFound(template)\n",
      "jinja2.exceptions.TemplateNotFound: pca.html\n",
      "127.0.0.1 - - [23/Jul/2021 23:17:11] \"\u001b[35m\u001b[1mGET / HTTP/1.1\u001b[0m\" 500 -\n",
      "127.0.0.1 - - [23/Jul/2021 23:17:14] \"\u001b[33mGET /favicon.ico HTTP/1.1\u001b[0m\" 404 -\n"
     ]
    }
   ],
   "source": [
    "from flask import Flask,request,render_template\n",
    "import numpy as np\n",
    "import pandas as pd\n",
    "import pickle\n",
    "import os\n",
    "app = Flask(__name__)\n",
    "model = pickle.load(open('PCA_model.pkl', 'rb'))\n",
    "@app.route('/')\n",
    "def home():\n",
    "    return render_template(\"pca.html\")\n",
    "@app.route('/predict',methods=[\"POST\",\"GET\"])\n",
    "\n",
    "def predict():\n",
    "    input_features = [float(x) for x in request.form.values()]\n",
    "    features_value = [np.array(input_features)]\n",
    "    \n",
    "    features_name = ['Global_reactive_power', 'Global_intensity', 'Sub_metering_1',\n",
    "                     \n",
    "       'Sub_metering_2', 'Sub_metering_3']\n",
    "    \n",
    "    df = pd.DataFrame(features_value, columns=features_name)\n",
    "    output = model.predict(df)\n",
    "        \n",
    "\n",
    "    return render_template('result1.html', prediction_text=output)\n",
    "if __name__==\"__main__\":\n",
    "    #port = int(os.getenv('PORT', 8080))\n",
    "    #app.run(host='0.0.0.0', port=port, debug=False)\n",
    "    app.run(debug=False)"
   ]
  },
  {
   "cell_type": "code",
   "execution_count": null,
   "metadata": {},
   "outputs": [],
   "source": []
  }
 ],
 "metadata": {
  "kernelspec": {
   "display_name": "Python 3",
   "language": "python",
   "name": "python3"
  }
 },
 "nbformat": 4,
 "nbformat_minor": 4
}
